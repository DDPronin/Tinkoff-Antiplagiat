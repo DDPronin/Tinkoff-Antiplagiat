{
 "cells": [
  {
   "cell_type": "code",
   "execution_count": 18,
   "id": "cd8652cf",
   "metadata": {},
   "outputs": [],
   "source": [
    "import os\n",
    "import numpy as np"
   ]
  },
  {
   "cell_type": "code",
   "execution_count": 27,
   "id": "c3071d32",
   "metadata": {},
   "outputs": [
    {
     "data": {
      "text/plain": [
       "2"
      ]
     },
     "execution_count": 27,
     "metadata": {},
     "output_type": "execute_result"
    }
   ],
   "source": [
    "np.random.choice([1, 2, 3])"
   ]
  },
  {
   "cell_type": "code",
   "execution_count": 11,
   "id": "4a19d7ce",
   "metadata": {},
   "outputs": [],
   "source": [
    "ORIG_PATH = 'D:/DDPronin/СтажСобес/Тинькофф/Tinkoff-Antiplagiat/plagiat/files'\n",
    "PLAG1_PATH = 'D:/DDPronin/СтажСобес/Тинькофф/Tinkoff-Antiplagiat/plagiat/plagiat1'\n",
    "PLAG2_PATH = 'D:/DDPronin/СтажСобес/Тинькофф/Tinkoff-Antiplagiat/plagiat/plagiat2'"
   ]
  },
  {
   "cell_type": "code",
   "execution_count": 31,
   "id": "e0850a6e",
   "metadata": {},
   "outputs": [],
   "source": [
    "#plag check 1\n",
    "with open('D:/DDPronin/СтажСобес/Тинькофф/Tinkoff-Antiplagiat/plag_check1.txt', 'w', encoding='utf8') as file:\n",
    "    for element in os.listdir(ORIG_PATH):\n",
    "        file.write(f'{ORIG_PATH}/{element} {PLAG1_PATH}/{element}\\n')"
   ]
  },
  {
   "cell_type": "code",
   "execution_count": 32,
   "id": "ed17adec",
   "metadata": {},
   "outputs": [],
   "source": [
    "#plag check 2\n",
    "with open('D:/DDPronin/СтажСобес/Тинькофф/Tinkoff-Antiplagiat/plag_check2.txt', 'w', encoding='utf8') as file:\n",
    "    for element in os.listdir(ORIG_PATH):\n",
    "        file.write(f'{ORIG_PATH}/{element} {PLAG2_PATH}/{element}\\n')"
   ]
  },
  {
   "cell_type": "code",
   "execution_count": 35,
   "id": "f2424d49",
   "metadata": {},
   "outputs": [],
   "source": [
    "#noPlag check 1\n",
    "with open('D:/DDPronin/СтажСобес/Тинькофф/Tinkoff-Antiplagiat/noPlag_check1.txt', 'w', encoding='utf8') as file:\n",
    "    paths = os.listdir(ORIG_PATH)\n",
    "    for i in range(len(paths)):\n",
    "        file.write(f'{ORIG_PATH}/{paths[i]} {PLAG1_PATH}/{np.random.choice(paths)}\\n')"
   ]
  },
  {
   "cell_type": "code",
   "execution_count": 36,
   "id": "8ea309f0",
   "metadata": {},
   "outputs": [],
   "source": [
    "#noPlag check 2\n",
    "with open('D:/DDPronin/СтажСобес/Тинькофф/Tinkoff-Antiplagiat/noPlag_check2.txt', 'w', encoding='utf8') as file:\n",
    "    paths = os.listdir(ORIG_PATH)\n",
    "    for i in range(len(paths)):\n",
    "        file.write(f'{ORIG_PATH}/{paths[i]} {PLAG2_PATH}/{np.random.choice(paths)}\\n')"
   ]
  }
 ],
 "metadata": {
  "kernelspec": {
   "display_name": "Python 3",
   "language": "python",
   "name": "python3"
  },
  "language_info": {
   "codemirror_mode": {
    "name": "ipython",
    "version": 3
   },
   "file_extension": ".py",
   "mimetype": "text/x-python",
   "name": "python",
   "nbconvert_exporter": "python",
   "pygments_lexer": "ipython3",
   "version": "3.8.8"
  }
 },
 "nbformat": 4,
 "nbformat_minor": 5
}
